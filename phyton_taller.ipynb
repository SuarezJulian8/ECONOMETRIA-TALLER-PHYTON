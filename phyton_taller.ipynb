{
  "nbformat": 4,
  "nbformat_minor": 0,
  "metadata": {
    "colab": {
      "provenance": []
    },
    "kernelspec": {
      "name": "python3",
      "display_name": "Python 3"
    },
    "language_info": {
      "name": "python"
    }
  },
  "cells": [
    {
      "cell_type": "markdown",
      "source": [
        "JULIAN SUAREZ 63201037\n"
      ],
      "metadata": {
        "id": "FrwqNuGTYdXR"
      }
    },
    {
      "cell_type": "markdown",
      "source": [
        "a) Crea un programa que tome una lista de números como entrada y devuelva la suma de todos los números en la lista."
      ],
      "metadata": {
        "id": "EGhepr6h5x0K"
      }
    },
    {
      "cell_type": "code",
      "execution_count": null,
      "metadata": {
        "id": "sq51V8tB5Enj"
      },
      "outputs": [],
      "source": [
        "lista=[10,20,30,40,50,60,70,80,90]"
      ]
    },
    {
      "cell_type": "code",
      "source": [
        "suma_de_lista=sum(lista)"
      ],
      "metadata": {
        "id": "CQcKmOSp53QT"
      },
      "execution_count": null,
      "outputs": []
    },
    {
      "cell_type": "code",
      "source": [
        "print(suma_de_lista)"
      ],
      "metadata": {
        "colab": {
          "base_uri": "https://localhost:8080/"
        },
        "id": "zgVUv55b6tTJ",
        "outputId": "a19a2a7e-1924-4a08-8101-edfacfdffedd"
      },
      "execution_count": null,
      "outputs": [
        {
          "output_type": "stream",
          "name": "stdout",
          "text": [
            "450\n"
          ]
        }
      ]
    },
    {
      "cell_type": "markdown",
      "source": [
        "b) Escribe un programa que tome dos listas y devuelva una nueva lista que contenga todos los elementos que son comunes a ambas listas.\n"
      ],
      "metadata": {
        "id": "MGy07GAA7H3j"
      }
    },
    {
      "cell_type": "code",
      "source": [
        "lista=[10,20,60,40,50]\n"
      ],
      "metadata": {
        "id": "mIB-Ebm77P8q"
      },
      "execution_count": null,
      "outputs": []
    },
    {
      "cell_type": "code",
      "source": [
        "lista2=[60,70,80,90,100]"
      ],
      "metadata": {
        "id": "LoM2XCPj9EaN"
      },
      "execution_count": null,
      "outputs": []
    },
    {
      "cell_type": "code",
      "source": [
        "lista3 = list(set(lista) & set(lista2))\n",
        "print(lista3)"
      ],
      "metadata": {
        "colab": {
          "base_uri": "https://localhost:8080/"
        },
        "id": "AOtUC-YC-505",
        "outputId": "b994847a-1ca5-4eeb-816f-c9514977390e"
      },
      "execution_count": null,
      "outputs": [
        {
          "output_type": "stream",
          "name": "stdout",
          "text": [
            "[60]\n"
          ]
        }
      ]
    },
    {
      "cell_type": "markdown",
      "source": [
        "c) Crea un programa que tome una lista de cadenas como entrada y devuelva la longitud de la cadena más larga en la lista."
      ],
      "metadata": {
        "id": "Jg-MCw5kAITz"
      }
    },
    {
      "cell_type": "code",
      "source": [
        "componente = [\"ya\", \"sali\", \"de\", \" clase\"]\n",
        "mayor=componente[0]\n",
        "\n",
        "for i in componente:\n",
        "  if len(i)>=len(mayor):\n",
        "    mayor=i\n",
        "    print(mayor)"
      ],
      "metadata": {
        "colab": {
          "base_uri": "https://localhost:8080/"
        },
        "id": "KY2KdhliAKkT",
        "outputId": "f77b1a00-cc69-40ef-f701-3845ace8c5a6"
      },
      "execution_count": null,
      "outputs": [
        {
          "output_type": "stream",
          "name": "stdout",
          "text": [
            "ya\n",
            "sali\n",
            " clase\n"
          ]
        }
      ]
    },
    {
      "cell_type": "markdown",
      "source": [
        "d) Escribe un programa que tome una lista de números como entrada y devuelva una nueva lista que contenga solo los números pares de la lista original."
      ],
      "metadata": {
        "id": "ogJAOqwjB9gY"
      }
    },
    {
      "cell_type": "code",
      "source": [
        " numeros= [10,20,30,40,50,60,70,80,90,100]\n",
        " pares = [n for n in numeros if n%2== 0]\n",
        " print(pares)"
      ],
      "metadata": {
        "colab": {
          "base_uri": "https://localhost:8080/"
        },
        "id": "-Fx0_VaJB_t4",
        "outputId": "96115597-132e-431f-b78c-e461880bd7b8"
      },
      "execution_count": null,
      "outputs": [
        {
          "output_type": "stream",
          "name": "stdout",
          "text": [
            "[10, 20, 30, 40, 50, 60, 70, 80, 90, 100]\n"
          ]
        }
      ]
    },
    {
      "cell_type": "markdown",
      "source": [
        "e) Crea un programa que tome una lista de cadenas como entrada y devuelva una nueva lista que contenga solo las cadenas que comienzan con la letra \"a\"."
      ],
      "metadata": {
        "id": "IE7pbHwuJEiK"
      }
    },
    {
      "cell_type": "code",
      "source": [
        "lista5=[\"naranja\",\"araña\",\"aguila\",\"jirafa\",\"pez\"]\n",
        "nueva_lista=[]\n",
        "for palabra in lista5:\n",
        "  if palabra.startswith(\"a\"):\n",
        "    nueva_lista.append(palabra)\n",
        "print(nueva_lista)"
      ],
      "metadata": {
        "id": "m-nGqLDbJHop",
        "colab": {
          "base_uri": "https://localhost:8080/"
        },
        "outputId": "981a9ccf-754d-40ad-bdb2-a5225776cdd0"
      },
      "execution_count": 27,
      "outputs": [
        {
          "output_type": "stream",
          "name": "stdout",
          "text": [
            "['araña', 'aguila']\n"
          ]
        }
      ]
    },
    {
      "cell_type": "markdown",
      "source": [
        "f) Escribe un programa que tome un diccionario como entrada y devuelva el valor asociado con una clave dada."
      ],
      "metadata": {
        "id": "sQsw4gUpTIZg"
      }
    },
    {
      "cell_type": "code",
      "source": [
        "def buscar_valor(diccionario, clave):\n",
        "    if clave in diccionario:\n",
        "        return diccionario[clave]\n",
        "    else:\n",
        "\n",
        "        print('Valor no encontrado')\n",
        "diccionario1 = {'letras': ['A','E','J','S'], 'numero': [13,25,5], 'simbolos': ['*','$','%']}\n",
        "valor = buscar_valor(diccionario1, 'letras')\n",
        "print(valor)\n"
      ],
      "metadata": {
        "colab": {
          "base_uri": "https://localhost:8080/"
        },
        "id": "MZJPvSA1TOoo",
        "outputId": "e437378c-0dc8-4999-9dfd-ec5ab28fee6a"
      },
      "execution_count": 28,
      "outputs": [
        {
          "output_type": "stream",
          "name": "stdout",
          "text": [
            "['A', 'E', 'J', 'S']\n"
          ]
        }
      ]
    },
    {
      "cell_type": "markdown",
      "source": [
        "g) Crea un programa que tome una lista de diccionarios como entrada y devuelva una nueva lista que contenga solo los diccionarios que tienen una cierta clave."
      ],
      "metadata": {
        "id": "-KJeGwS1T0vf"
      }
    },
    {
      "cell_type": "code",
      "source": [
        "def buscar_diccionarios(lista, clave):\n",
        "    resultado = []\n",
        "    for diccionario in lista:\n",
        "        if clave in diccionario:\n",
        "            resultado.append(diccionario)\n",
        "    return resultado\n",
        "\n",
        "lista6 = [{'futbol': 'tenis', 'baloncesto': 'futbol americano'}, {'mango': 'pera', 'tomate': 'arveja'}]\n",
        "diccionarios_variedad = buscar_diccionarios(lista6,'futbol')\n",
        "print(diccionarios_variedad)"
      ],
      "metadata": {
        "colab": {
          "base_uri": "https://localhost:8080/"
        },
        "id": "_aLQGnYqT3Sv",
        "outputId": "d08b2110-858a-4912-b9ae-ff0229d57031"
      },
      "execution_count": 30,
      "outputs": [
        {
          "output_type": "stream",
          "name": "stdout",
          "text": [
            "[{'futbol': 'tenis', 'baloncesto': 'futbol americano'}]\n"
          ]
        }
      ]
    },
    {
      "cell_type": "markdown",
      "source": [
        "h) Escribe un programa que tome un diccionario como entrada y devuelva un nuevo \n"
      ],
      "metadata": {
        "id": "KG1HOOB7Uaxh"
      }
    },
    {
      "cell_type": "code",
      "source": [
        "def intercambiar (diccionario):\n",
        "  diccionario2 = {}\n",
        "  for clave, valor in diccionario.items ():\n",
        "    diccionario2[valor] = clave\n",
        "  return diccionario2 \n",
        "\n",
        "diccionario3 = {'ciudad':'bogota', 'pais':'colombia', 'continente':'sudamerica'}\n",
        "diccionario_invertido = intercambiar (diccionario3) \n",
        "print (diccionario_invertido)"
      ],
      "metadata": {
        "colab": {
          "base_uri": "https://localhost:8080/"
        },
        "id": "_HmrU6mSUbKv",
        "outputId": "3ff59d3c-b352-47ac-c57f-fa86cfba1583"
      },
      "execution_count": 31,
      "outputs": [
        {
          "output_type": "stream",
          "name": "stdout",
          "text": [
            "{'bogota': 'ciudad', 'colombia': 'pais', 'sudamerica': 'continente'}\n"
          ]
        }
      ]
    },
    {
      "cell_type": "markdown",
      "source": [
        "i) Crea un programa que tome dos diccionarios como entrada y devuelva un nuevo diccionario que contenga solo los pares clave-valor que son comunes a ambos diccionarios."
      ],
      "metadata": {
        "id": "Nv8-WiCbVFYf"
      }
    },
    {
      "cell_type": "code",
      "source": [
        "def los_pares_comunes(diccionario4, diccionario5):\n",
        "    pares_comunes = {}\n",
        "    for clave, valor in diccionario4.items():\n",
        "        if clave in diccionario5 and diccionario5[clave] == valor:\n",
        "            pares_comunes[clave] = valor\n",
        "    return pares_comunes\n",
        "diccionario4={'ciudad':'bogota', 'pais':'colombia', 'continente':'sudamerica'}\n",
        "diccionario5={'ciudad':'cali', 'pais':'argentina', 'continente':'sudamerica'}\n",
        "pares_comunes = los_pares_comunes(diccionario4,diccionario5)\n",
        "print(pares_comunes)"
      ],
      "metadata": {
        "colab": {
          "base_uri": "https://localhost:8080/"
        },
        "id": "pV0TgCmkVLcu",
        "outputId": "a3916875-3176-4fd2-cc90-a2f457b1f0cb"
      },
      "execution_count": 45,
      "outputs": [
        {
          "output_type": "stream",
          "name": "stdout",
          "text": [
            "{'continente': 'sudamerica'}\n"
          ]
        }
      ]
    },
    {
      "cell_type": "markdown",
      "source": [
        "j) Escribe un programa que tome un diccionario como entrada y devuelva un nuevo diccionario con las claves ordenadas alfabéticamente."
      ],
      "metadata": {
        "id": "zVPJRYreWvhb"
      }
    },
    {
      "cell_type": "code",
      "source": [
        "diccionario6={'ciudad':'bogota', 'pais':'colombia', 'continente':'sudamerica'}\n",
        "keys=diccionario6.keys()\n",
        "print(keys)\n",
        "sorted_keys=sorted(keys)\n",
        "print(sorted_keys)"
      ],
      "metadata": {
        "colab": {
          "base_uri": "https://localhost:8080/"
        },
        "id": "aAbCVULTW2Nw",
        "outputId": "d6defb30-9988-434c-9596-e28ac8bdcd8b"
      },
      "execution_count": 46,
      "outputs": [
        {
          "output_type": "stream",
          "name": "stdout",
          "text": [
            "dict_keys(['ciudad', 'pais', 'continente'])\n",
            "['ciudad', 'continente', 'pais']\n"
          ]
        }
      ]
    },
    {
      "cell_type": "markdown",
      "source": [
        "k) Escribe una función que tome dos números como entrada y devuelva su suma."
      ],
      "metadata": {
        "id": "gUW0OKrsXAm4"
      }
    },
    {
      "cell_type": "code",
      "source": [
        "def sumar_numeros (num1,num2,num3):\n",
        "  suma = num1 + num2 + num3\n",
        "  return suma \n",
        "resultado = sumar_numeros(80, 160,90)\n",
        "print(resultado)"
      ],
      "metadata": {
        "colab": {
          "base_uri": "https://localhost:8080/"
        },
        "id": "U57GR9pXXBda",
        "outputId": "a872afd8-3aba-4331-cd53-5cd71e09f201"
      },
      "execution_count": 47,
      "outputs": [
        {
          "output_type": "stream",
          "name": "stdout",
          "text": [
            "330\n"
          ]
        }
      ]
    },
    {
      "cell_type": "markdown",
      "source": [
        "l) Crea una función que tome una lista de cadenas como entrada y devuelva una nueva lista que contenga solo las cadenas que son más largas que una longitud dada."
      ],
      "metadata": {
        "id": "lxXbmRqNXH6I"
      }
    },
    {
      "cell_type": "code",
      "source": [
        "cadenas = ['ejecucion', 'revolucion', 'guerra mundial', 'inteligencia artificial']\n",
        "def filtrar_cadenas(lista_cadenas, longitud_minima):\n",
        "    nuevas_cadenas = []\n",
        "    for cadena in lista_cadenas:\n",
        "        if len(cadena) > longitud_minima:\n",
        "            nuevas_cadenas.append(cadena)\n",
        "    return nuevas_cadenas\n",
        "\n",
        "longitud_minima = 15\n",
        "resultado = filtrar_cadenas(cadenas, longitud_minima)\n",
        "print(resultado)"
      ],
      "metadata": {
        "colab": {
          "base_uri": "https://localhost:8080/"
        },
        "id": "qFv8wEMAXLVy",
        "outputId": "745e9437-0bf8-42a4-de7c-e50ca15c984b"
      },
      "execution_count": 48,
      "outputs": [
        {
          "output_type": "stream",
          "name": "stdout",
          "text": [
            "['inteligencia artificial']\n"
          ]
        }
      ]
    },
    {
      "cell_type": "markdown",
      "source": [
        "m) Escribe una función que tome una cadena como entrada y devuelva True si la cadena es un palíndromo, False en caso contrario."
      ],
      "metadata": {
        "id": "1hjz4o4AXeZK"
      }
    },
    {
      "cell_type": "code",
      "source": [
        "cadena3 = \"amor\"\n",
        "cadena4 = \"automovil\"\n",
        "def palindromo(cadena):\n",
        "    cadena = cadena.lower().replace(\" \", \"\")\n",
        "    return cadena == cadena[::-1]\n",
        "print(palindromo(cadena3)) \n",
        "print(palindromo(cadena4))"
      ],
      "metadata": {
        "colab": {
          "base_uri": "https://localhost:8080/"
        },
        "id": "p_PUU9TvXgP7",
        "outputId": "f268fdd1-4dd2-4f4b-95be-4f0e247276f7"
      },
      "execution_count": 49,
      "outputs": [
        {
          "output_type": "stream",
          "name": "stdout",
          "text": [
            "False\n",
            "False\n"
          ]
        }
      ]
    },
    {
      "cell_type": "markdown",
      "source": [
        "n) Crea una función que tome una lista de números como entrada y devuelva el promedio de todos los números en la lista."
      ],
      "metadata": {
        "id": "um6r1bxaXzSq"
      }
    },
    {
      "cell_type": "code",
      "source": [
        "lista7 = [25,50,75,100,115]\n",
        "def obtener_promedio(lista7):\n",
        "  if len(lista7) == 0:\n",
        "    return 0\n",
        "  else:\n",
        "   return sum(lista7)/len(lista7)\n",
        "print(obtener_promedio(lista7))"
      ],
      "metadata": {
        "colab": {
          "base_uri": "https://localhost:8080/"
        },
        "id": "ZdNpJWl1X0vU",
        "outputId": "d4d7a190-8831-4050-e6c7-ce53ed32bd70"
      },
      "execution_count": 50,
      "outputs": [
        {
          "output_type": "stream",
          "name": "stdout",
          "text": [
            "73.0\n"
          ]
        }
      ]
    },
    {
      "cell_type": "markdown",
      "source": [
        "o) Escribe una función que tome un diccionario como entrada y devuelva una lista de todas las claves en el diccionario."
      ],
      "metadata": {
        "id": "np6exeEnX-b5"
      }
    },
    {
      "cell_type": "code",
      "source": [
        "diccionario7 = {'deporte':'futbol', 'jugador':'falcao', 'liga':'inglaterra'}\n",
        "def obtener_claves(diccionario):\n",
        "    return list(diccionario.keys())\n",
        "\n",
        "print(obtener_claves(diccionario7))"
      ],
      "metadata": {
        "colab": {
          "base_uri": "https://localhost:8080/"
        },
        "id": "h4d0L3DxYAFz",
        "outputId": "8f409907-763e-4aed-ad73-87af15b37aa2"
      },
      "execution_count": 51,
      "outputs": [
        {
          "output_type": "stream",
          "name": "stdout",
          "text": [
            "['deporte', 'jugador', 'liga']\n"
          ]
        }
      ]
    },
    {
      "cell_type": "markdown",
      "source": [
        "p) Escribe un programa que tome una lista de números como entrada y devuelva el valor máximo en la lista."
      ],
      "metadata": {
        "id": "CCwHJ2ThYQbr"
      }
    },
    {
      "cell_type": "code",
      "source": [
        "lista8 = [100,200,400,600,100]\n",
        "def obtener_valor_maximo(lista8):\n",
        "  if len(lista8) == 0:\n",
        "    return 0\n",
        "  else:\n",
        "   return max(lista8)\n",
        "print(obtener_valor_maximo(lista8))"
      ],
      "metadata": {
        "colab": {
          "base_uri": "https://localhost:8080/"
        },
        "id": "MCzZFJRnYQ1M",
        "outputId": "a9bf7f59-0248-4f91-d3a3-38dc3ef4aeba"
      },
      "execution_count": 52,
      "outputs": [
        {
          "output_type": "stream",
          "name": "stdout",
          "text": [
            "600\n"
          ]
        }
      ]
    },
    {
      "cell_type": "markdown",
      "source": [
        "q) Crea un programa que tome una cadena como entrada y devuelva una nueva cadena que contenga solo las vocales en la cadena original."
      ],
      "metadata": {
        "id": "5k0m6VEwYZ0N"
      }
    },
    {
      "cell_type": "code",
      "source": [
        "cadena1 = \"lucha por tus sueños,nunca te rindas\"\n",
        "def obtener_vocales(cadena):\n",
        "    vocales = \"aeiou\"\n",
        "    vocales_encontradas = []\n",
        "    for caracter in cadena:\n",
        "        if caracter in vocales:\n",
        "            vocales_encontradas += caracter\n",
        "    return vocales_encontradas\n",
        "\n",
        "print(obtener_vocales(cadena1))"
      ],
      "metadata": {
        "colab": {
          "base_uri": "https://localhost:8080/"
        },
        "id": "hr3l_fuCYagl",
        "outputId": "d14ca83c-49e3-4bf9-87dc-1f87ca480e01"
      },
      "execution_count": 53,
      "outputs": [
        {
          "output_type": "stream",
          "name": "stdout",
          "text": [
            "['u', 'a', 'o', 'u', 'u', 'e', 'o', 'u', 'a', 'e', 'i', 'a']\n"
          ]
        }
      ]
    },
    {
      "cell_type": "markdown",
      "source": [
        "r) Escribe un programa que tome una lista de números como entrada y devuelva una nueva lista que contenga los valores al cuadrado de cada número en la lista original."
      ],
      "metadata": {
        "id": "piLu339mYkVH"
      }
    },
    {
      "cell_type": "code",
      "source": [
        "lista9 = [1, 2, 3, 4, 5]\n",
        "def obtener_cuadrados(lista9):\n",
        "    lista_cuadrados = []\n",
        "    for numero in lista9:\n",
        "        lista_cuadrados.append(numero ** 2)\n",
        "    return lista_cuadrados\n",
        "print(obtener_cuadrados(lista9))"
      ],
      "metadata": {
        "colab": {
          "base_uri": "https://localhost:8080/"
        },
        "id": "st9i7CfkYlsF",
        "outputId": "e949d99b-cd62-4715-8034-33cec5e49dd4"
      },
      "execution_count": 55,
      "outputs": [
        {
          "output_type": "stream",
          "name": "stdout",
          "text": [
            "[1, 4, 9, 16, 25]\n"
          ]
        }
      ]
    },
    {
      "cell_type": "markdown",
      "source": [
        "s) Crea un programa que tome una cadena como entrada y devuelva una nueva cadena con los caracteres en orden inverso."
      ],
      "metadata": {
        "id": "agctm8bnYyfl"
      }
    },
    {
      "cell_type": "code",
      "source": [
        "cadena = \"Siempre quise ser futbolista profesional y no se pudo\"\n",
        "def invertir_cadena(cadena):\n",
        "    return cadena[::-1]\n",
        "print(invertir_cadena(cadena))"
      ],
      "metadata": {
        "colab": {
          "base_uri": "https://localhost:8080/"
        },
        "id": "usMxaHTvY0CH",
        "outputId": "5c3b81ed-86b5-454b-9b59-0b44e52215bd"
      },
      "execution_count": 56,
      "outputs": [
        {
          "output_type": "stream",
          "name": "stdout",
          "text": [
            "odup es on y lanoiseforp atsilobtuf res esiuq erpmeiS\n"
          ]
        }
      ]
    },
    {
      "cell_type": "markdown",
      "source": [
        "t) Escribe un programa que tome una lista de cadenas como entrada y devuelva una nueva lista que contenga la longitud de cada cadena en la lista original."
      ],
      "metadata": {
        "id": "L_rPyQk7ZGV-"
      }
    },
    {
      "cell_type": "code",
      "source": [
        "lista10 = ['mis', 'papaas', 'son', 'lo', 'mejor', 'de', 'la', 'vida', 'entera']\n",
        "def longitud_cadenas(lista_cadenas):\n",
        "    longitudes = []\n",
        "    for cadena in lista_cadenas:\n",
        "        longitudes.append(len(cadena))\n",
        "    return longitudes\n",
        "\n",
        "\n",
        "longitudes = longitud_cadenas(lista10)\n",
        "print(longitudes)"
      ],
      "metadata": {
        "colab": {
          "base_uri": "https://localhost:8080/"
        },
        "id": "TKlOvk1RZHtQ",
        "outputId": "fcfca54e-c42c-49ec-e8ef-9b9618bf694e"
      },
      "execution_count": 57,
      "outputs": [
        {
          "output_type": "stream",
          "name": "stdout",
          "text": [
            "[3, 6, 3, 2, 5, 2, 2, 4, 6]\n"
          ]
        }
      ]
    }
  ]
}